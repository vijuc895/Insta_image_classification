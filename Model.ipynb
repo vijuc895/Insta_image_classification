{
 "cells": [
  {
   "cell_type": "markdown",
   "metadata": {
    "colab_type": "text",
    "id": "eiG7q2cTlwe4"
   },
   "source": [
    "#Model"
   ]
  },
  {
   "cell_type": "code",
   "execution_count": 116,
   "metadata": {
    "colab": {
     "base_uri": "https://localhost:8080/",
     "height": 134
    },
    "colab_type": "code",
    "id": "wxjSUvlwlvgW",
    "outputId": "f222b89d-858c-4252-baa4-21bce21052e7"
   },
   "outputs": [
    {
     "name": "stderr",
     "output_type": "stream",
     "text": [
      "[nltk_data] Downloading package stopwords to /Users/omkar/nltk_data...\n",
      "[nltk_data]   Package stopwords is already up-to-date!\n"
     ]
    }
   ],
   "source": [
    "# Loading the required packages\n",
    "import numpy as np\n",
    "import pandas as pd\n",
    "import matplotlib.pyplot as plt\n",
    "import seaborn as sns\n",
    "plt.style.use('fivethirtyeight')\n",
    "import warnings\n",
    "warnings.filterwarnings('ignore')\n",
    "import re\n",
    "from nltk.corpus import stopwords\n",
    "from nltk.stem import PorterStemmer\n",
    "from sklearn.feature_extraction.text import TfidfVectorizer\n",
    "from sklearn.linear_model import LogisticRegression, LogisticRegressionCV\n",
    "from sklearn.metrics import classification_report, confusion_matrix, accuracy_score, f1_score\n",
    "from sklearn.feature_selection import SelectKBest, chi2 \n",
    "from sklearn.ensemble import RandomForestClassifier\n",
    "from sklearn.neural_network import MLPClassifier\n",
    "from sklearn.svm import LinearSVC\n",
    "import nltk\n",
    "nltk.download('stopwords')\n",
    "# %matplotlib inline\n",
    "from sklearn.pipeline import Pipeline\n",
    "from sklearn.model_selection import train_test_split\n",
    "import datetime\n",
    "import time\n"
   ]
  },
  {
   "cell_type": "code",
   "execution_count": 117,
   "metadata": {
    "colab": {},
    "colab_type": "code",
    "id": "If_pBylsPAWH"
   },
   "outputs": [],
   "source": [
    "# Loading the dataset formed by scraping Instagram throgh Instaloader\n",
    "df = pd.read_excel('newdata1.xlsx')"
   ]
  },
  {
   "cell_type": "code",
   "execution_count": 118,
   "metadata": {},
   "outputs": [],
   "source": [
    "# Converting the caption to string type\n",
    "df['caption'] = df['caption'].astype(str)"
   ]
  },
  {
   "cell_type": "code",
   "execution_count": 119,
   "metadata": {
    "colab": {
     "base_uri": "https://localhost:8080/",
     "height": 34
    },
    "colab_type": "code",
    "id": "fa5j95zjokqa",
    "outputId": "851b9fe7-ba9a-4d8f-ec3c-1dd494183cc0"
   },
   "outputs": [
    {
     "data": {
      "text/plain": [
       "(1000, 12)"
      ]
     },
     "execution_count": 119,
     "metadata": {},
     "output_type": "execute_result"
    }
   ],
   "source": [
    "df.shape"
   ]
  },
  {
   "cell_type": "code",
   "execution_count": 120,
   "metadata": {
    "colab": {
     "base_uri": "https://localhost:8080/",
     "height": 67
    },
    "colab_type": "code",
    "id": "A5NyS3e4oksb",
    "outputId": "2444c8bf-8ce0-48be-f040-58c6b009f3c5"
   },
   "outputs": [
    {
     "data": {
      "text/plain": [
       "Index(['username', 'image_url', 'following', 'followers', 'datetime',\n",
       "       'type_media', 'likes', 'comments', 'caption', 'caption_hashtags',\n",
       "       'comments_text', 'category'],\n",
       "      dtype='object')"
      ]
     },
     "execution_count": 120,
     "metadata": {},
     "output_type": "execute_result"
    }
   ],
   "source": [
    "df.columns"
   ]
  },
  {
   "cell_type": "code",
   "execution_count": 121,
   "metadata": {
    "colab": {},
    "colab_type": "code",
    "id": "UbDPlc6Ati2k"
   },
   "outputs": [],
   "source": [
    "# Dropping the rows with null values\n",
    "df = df[df.category.isnull() == False]"
   ]
  },
  {
   "cell_type": "code",
   "execution_count": 122,
   "metadata": {
    "colab": {
     "base_uri": "https://localhost:8080/",
     "height": 151
    },
    "colab_type": "code",
    "id": "jifHkrCwpykQ",
    "outputId": "9cda31dc-0333-4b1d-9b2d-bfd53e551995"
   },
   "outputs": [
    {
     "data": {
      "text/plain": [
       "username            0\n",
       "image_url           0\n",
       "following           0\n",
       "followers           0\n",
       "datetime            0\n",
       "type_media          0\n",
       "likes               0\n",
       "comments            0\n",
       "caption             0\n",
       "caption_hashtags    0\n",
       "comments_text       0\n",
       "category            0\n",
       "dtype: int64"
      ]
     },
     "execution_count": 122,
     "metadata": {},
     "output_type": "execute_result"
    }
   ],
   "source": [
    "df.isnull().sum()"
   ]
  },
  {
   "cell_type": "code",
   "execution_count": 123,
   "metadata": {
    "colab": {
     "base_uri": "https://localhost:8080/",
     "height": 166
    },
    "colab_type": "code",
    "id": "D8vfhhtipyl8",
    "outputId": "2709fe13-0e2f-41f6-9ea7-13641dad58aa"
   },
   "outputs": [
    {
     "data": {
      "text/html": [
       "<div>\n",
       "<style scoped>\n",
       "    .dataframe tbody tr th:only-of-type {\n",
       "        vertical-align: middle;\n",
       "    }\n",
       "\n",
       "    .dataframe tbody tr th {\n",
       "        vertical-align: top;\n",
       "    }\n",
       "\n",
       "    .dataframe thead th {\n",
       "        text-align: right;\n",
       "    }\n",
       "</style>\n",
       "<table border=\"1\" class=\"dataframe\">\n",
       "  <thead>\n",
       "    <tr style=\"text-align: right;\">\n",
       "      <th></th>\n",
       "      <th>count</th>\n",
       "      <th>mean</th>\n",
       "      <th>std</th>\n",
       "      <th>min</th>\n",
       "      <th>25%</th>\n",
       "      <th>50%</th>\n",
       "      <th>75%</th>\n",
       "      <th>max</th>\n",
       "    </tr>\n",
       "  </thead>\n",
       "  <tbody>\n",
       "    <tr>\n",
       "      <th>following</th>\n",
       "      <td>1000.0</td>\n",
       "      <td>1094.335</td>\n",
       "      <td>1669.022987</td>\n",
       "      <td>0.0</td>\n",
       "      <td>109.25</td>\n",
       "      <td>397.0</td>\n",
       "      <td>1087.75</td>\n",
       "      <td>7504.0</td>\n",
       "    </tr>\n",
       "    <tr>\n",
       "      <th>followers</th>\n",
       "      <td>1000.0</td>\n",
       "      <td>10122.600</td>\n",
       "      <td>85832.062212</td>\n",
       "      <td>4.0</td>\n",
       "      <td>307.00</td>\n",
       "      <td>957.0</td>\n",
       "      <td>3822.25</td>\n",
       "      <td>2351783.0</td>\n",
       "    </tr>\n",
       "    <tr>\n",
       "      <th>likes</th>\n",
       "      <td>1000.0</td>\n",
       "      <td>328.383</td>\n",
       "      <td>1108.675506</td>\n",
       "      <td>1.0</td>\n",
       "      <td>23.75</td>\n",
       "      <td>54.0</td>\n",
       "      <td>198.25</td>\n",
       "      <td>22090.0</td>\n",
       "    </tr>\n",
       "    <tr>\n",
       "      <th>comments</th>\n",
       "      <td>1000.0</td>\n",
       "      <td>10.835</td>\n",
       "      <td>32.367660</td>\n",
       "      <td>2.0</td>\n",
       "      <td>2.00</td>\n",
       "      <td>4.0</td>\n",
       "      <td>8.25</td>\n",
       "      <td>724.0</td>\n",
       "    </tr>\n",
       "    <tr>\n",
       "      <th>category</th>\n",
       "      <td>1000.0</td>\n",
       "      <td>0.349</td>\n",
       "      <td>0.476892</td>\n",
       "      <td>0.0</td>\n",
       "      <td>0.00</td>\n",
       "      <td>0.0</td>\n",
       "      <td>1.00</td>\n",
       "      <td>1.0</td>\n",
       "    </tr>\n",
       "  </tbody>\n",
       "</table>\n",
       "</div>"
      ],
      "text/plain": [
       "            count       mean           std  min     25%    50%      75%  \\\n",
       "following  1000.0   1094.335   1669.022987  0.0  109.25  397.0  1087.75   \n",
       "followers  1000.0  10122.600  85832.062212  4.0  307.00  957.0  3822.25   \n",
       "likes      1000.0    328.383   1108.675506  1.0   23.75   54.0   198.25   \n",
       "comments   1000.0     10.835     32.367660  2.0    2.00    4.0     8.25   \n",
       "category   1000.0      0.349      0.476892  0.0    0.00    0.0     1.00   \n",
       "\n",
       "                 max  \n",
       "following     7504.0  \n",
       "followers  2351783.0  \n",
       "likes        22090.0  \n",
       "comments       724.0  \n",
       "category         1.0  "
      ]
     },
     "execution_count": 123,
     "metadata": {},
     "output_type": "execute_result"
    }
   ],
   "source": [
    "# Descriptive statistics of the dataset\n",
    "df.describe().T"
   ]
  },
  {
   "cell_type": "code",
   "execution_count": 124,
   "metadata": {
    "colab": {
     "base_uri": "https://localhost:8080/",
     "height": 67
    },
    "colab_type": "code",
    "id": "fN09dc7Jpyq2",
    "outputId": "26b83117-b83b-497a-830a-4a4d4348fb6e"
   },
   "outputs": [
    {
     "data": {
      "text/plain": [
       "0    651\n",
       "1    349\n",
       "Name: category, dtype: int64"
      ]
     },
     "execution_count": 124,
     "metadata": {},
     "output_type": "execute_result"
    }
   ],
   "source": [
    "# Value counts of positives(1) and negatives(0)\n",
    "df['category'].value_counts()"
   ]
  },
  {
   "cell_type": "code",
   "execution_count": 125,
   "metadata": {
    "colab": {},
    "colab_type": "code",
    "id": "as3I_qY0pywC"
   },
   "outputs": [],
   "source": [
    "# Cleaning the text data by stripping blank spaces, removing unnecessary tokens.\n",
    "# Text pre-processing : Removing stopwords and stemming\n",
    "\n",
    "stemmer = PorterStemmer()\n",
    "words = stopwords.words(\"english\")\n",
    "df['caption'] = df['caption'].apply(lambda x: \" \".join([stemmer.stem(i) for i in re.sub(\"[^a-zA-Z0-9]\", \" \", x).split() if i not in words]).lower())\n",
    "\n",
    "# Using TFIDF Vectorizer to form numerical features\n",
    "vectorizer = TfidfVectorizer(min_df=3, stop_words=\"english\", sublinear_tf=True, norm='l2', ngram_range=(1, 2))"
   ]
  },
  {
   "cell_type": "code",
   "execution_count": 126,
   "metadata": {
    "colab": {},
    "colab_type": "code",
    "id": "HVDS9qrWpyz0"
   },
   "outputs": [],
   "source": [
    "# Selecting top 1000 best features using SelectKBest and storing it in an array\n",
    "pipe = Pipeline([('vect', vectorizer), ('chi',  SelectKBest(chi2, k=1000))])\n",
    "text_features = pipe.fit_transform(df['caption'], df['category'])\n",
    "text_features = text_features.toarray()"
   ]
  },
  {
   "cell_type": "code",
   "execution_count": 127,
   "metadata": {},
   "outputs": [
    {
     "data": {
      "text/plain": [
       "array([[0., 0., 0., ..., 0., 0., 0.],\n",
       "       [0., 0., 0., ..., 0., 0., 0.],\n",
       "       [0., 0., 0., ..., 0., 0., 0.],\n",
       "       ...,\n",
       "       [0., 0., 0., ..., 0., 0., 0.],\n",
       "       [0., 0., 0., ..., 0., 0., 0.],\n",
       "       [0., 0., 0., ..., 0., 0., 0.]])"
      ]
     },
     "execution_count": 127,
     "metadata": {},
     "output_type": "execute_result"
    }
   ],
   "source": [
    "text_features"
   ]
  },
  {
   "cell_type": "code",
   "execution_count": 128,
   "metadata": {
    "colab": {
     "base_uri": "https://localhost:8080/",
     "height": 34
    },
    "colab_type": "code",
    "id": "dVbEzqi7py1V",
    "outputId": "1c4e12cb-5ef6-497d-ae06-bab0a9bc27f9"
   },
   "outputs": [
    {
     "data": {
      "text/plain": [
       "0      1.000000\n",
       "1      0.999706\n",
       "2      0.999691\n",
       "3      0.999657\n",
       "4      0.999576\n",
       "5      0.999463\n",
       "6      0.999387\n",
       "7      0.999370\n",
       "8      0.999365\n",
       "9      0.999187\n",
       "10     0.999114\n",
       "11     0.999079\n",
       "12     0.999077\n",
       "13     0.999073\n",
       "14     0.998886\n",
       "15     0.998881\n",
       "16     0.998876\n",
       "17     0.998875\n",
       "18     0.998829\n",
       "19     0.998797\n",
       "20     0.998768\n",
       "21     0.998758\n",
       "22     0.998729\n",
       "23     0.998717\n",
       "24     0.998695\n",
       "25     0.998623\n",
       "26     0.998584\n",
       "27     0.998525\n",
       "28     0.998514\n",
       "29     0.998511\n",
       "         ...   \n",
       "970    0.635304\n",
       "971    0.635294\n",
       "972    0.635291\n",
       "973    0.635245\n",
       "974    0.635220\n",
       "975    0.635176\n",
       "976    0.635148\n",
       "977    0.635147\n",
       "978    0.635139\n",
       "979    0.635074\n",
       "980    0.635024\n",
       "981    0.635019\n",
       "982    0.635006\n",
       "983    0.634979\n",
       "984    0.634961\n",
       "985    0.634950\n",
       "986    0.634945\n",
       "987    0.634937\n",
       "988    0.634935\n",
       "989    0.634934\n",
       "990    0.634926\n",
       "991    0.634910\n",
       "992    0.634896\n",
       "993    0.634742\n",
       "994    0.634707\n",
       "995    0.634614\n",
       "996    0.634573\n",
       "997    0.634544\n",
       "998    0.634494\n",
       "999    0.634484\n",
       "Name: datetime_diff, Length: 1000, dtype: float64"
      ]
     },
     "execution_count": 128,
     "metadata": {},
     "output_type": "execute_result"
    }
   ],
   "source": [
    "d1 = datetime.datetime.now()\n",
    "d1_ts = time.mktime(d1.timetuple())\n",
    "df['datetime_diff'] = (df['datetime'].apply(lambda x : time.mktime(x.timetuple())) - d1_ts)/60\n",
    "df['datetime_diff']=(df['datetime_diff']-df['datetime_diff'].min())/(df['datetime_diff'].max()-df['datetime_diff'].min())\n",
    "df['datetime_diff']"
   ]
  },
  {
   "cell_type": "code",
   "execution_count": 129,
   "metadata": {},
   "outputs": [],
   "source": [
    "df1 = df[['following','followers', 'likes', 'comments', \"datetime_diff\"]]\n",
    "#df1"
   ]
  },
  {
   "cell_type": "code",
   "execution_count": 137,
   "metadata": {
    "colab": {},
    "colab_type": "code",
    "id": "hnuEobEnvBHr"
   },
   "outputs": [],
   "source": [
    "# Categorising the target variable\n",
    "df['category'] = pd.Categorical(df['category'])"
   ]
  },
  {
   "cell_type": "code",
   "execution_count": 153,
   "metadata": {
    "colab": {
     "base_uri": "https://localhost:8080/",
     "height": 84
    },
    "colab_type": "code",
    "id": "IEi_j2lbpyuh",
    "outputId": "f5203c1d-822c-4978-ea93-9207d1a89653"
   },
   "outputs": [],
   "source": [
    "# Creating training and test datasets\n",
    "#X = text_features\n",
    "X = df1\n",
    "y = df['category']\n",
    "\n",
    "X_train, X_test, y_train, y_test = train_test_split(X, y, test_size=0.2, random_state=42)"
   ]
  },
  {
   "cell_type": "code",
   "execution_count": 154,
   "metadata": {},
   "outputs": [
    {
     "data": {
      "text/plain": [
       "LinearSVC(C=1.0, class_weight='balanced', dual=True, fit_intercept=True,\n",
       "     intercept_scaling=1, loss='squared_hinge', max_iter=5000,\n",
       "     multi_class='ovr', penalty='l2', random_state=None, tol=0.0001,\n",
       "     verbose=0)"
      ]
     },
     "execution_count": 154,
     "metadata": {},
     "output_type": "execute_result"
    }
   ],
   "source": [
    "# Fitting the model\n",
    "# Linear SVC is used since the data is sparsed and Support vectors work well on such kind of dataset\n",
    "model = LinearSVC(class_weight='balanced', max_iter=5000)\n",
    "model.fit(X_train, y_train)"
   ]
  },
  {
   "cell_type": "code",
   "execution_count": 155,
   "metadata": {
    "colab": {
     "base_uri": "https://localhost:8080/",
     "height": 50
    },
    "colab_type": "code",
    "id": "G5ACO1FrkzTH",
    "outputId": "26bac4fd-45b2-48bd-872f-31145e951244"
   },
   "outputs": [
    {
     "name": "stdout",
     "output_type": "stream",
     "text": [
      "Final prediction score: [0.97000000]\n",
      "Final prediction f1 score: [0.96983631]\n"
     ]
    }
   ],
   "source": [
    "# Performing prediction on test dataset\n",
    "preds = model.predict(X_test)\n",
    "print('Final prediction score: [%.8f]' % accuracy_score(y_test, preds))\n",
    "print('Final prediction f1 score: [%.8f]' % f1_score(y_test, preds, average='weighted'))"
   ]
  },
  {
   "cell_type": "code",
   "execution_count": 156,
   "metadata": {
    "colab": {
     "base_uri": "https://localhost:8080/",
     "height": 202
    },
    "colab_type": "code",
    "id": "EApjVXBJrmTR",
    "outputId": "af8b05ad-e786-40a4-dc02-b48681c8a0ed",
    "scrolled": true
   },
   "outputs": [
    {
     "name": "stdout",
     "output_type": "stream",
     "text": [
      "              precision    recall  f1-score   support\n",
      "\n",
      "           0       0.97      0.99      0.98       143\n",
      "           1       0.96      0.93      0.95        57\n",
      "\n",
      "   micro avg       0.97      0.97      0.97       200\n",
      "   macro avg       0.97      0.96      0.96       200\n",
      "weighted avg       0.97      0.97      0.97       200\n",
      "\n",
      "[[141   2]\n",
      " [  4  53]]\n"
     ]
    }
   ],
   "source": [
    "# Printing classification report and confusion matrix\n",
    "print(classification_report(y_test, preds))\n",
    "print(confusion_matrix(y_test, preds))"
   ]
  },
  {
   "cell_type": "code",
   "execution_count": 157,
   "metadata": {
    "scrolled": true
   },
   "outputs": [
    {
     "name": "stdout",
     "output_type": "stream",
     "text": [
      "Final prediction score: [0.95500000]\n",
      "Final prediction f1 score: [0.95533841]\n"
     ]
    }
   ],
   "source": [
    "model = LogisticRegression()\n",
    "model.fit(X_train, y_train)\n",
    "\n",
    "# Performing prediction on test dataset\n",
    "preds = model.predict(X_test)\n",
    "print('Final prediction score: [%.8f]' % accuracy_score(y_test, preds))\n",
    "print('Final prediction f1 score: [%.8f]' % f1_score(y_test, preds, average='weighted'))"
   ]
  },
  {
   "cell_type": "code",
   "execution_count": 158,
   "metadata": {},
   "outputs": [
    {
     "name": "stdout",
     "output_type": "stream",
     "text": [
      "Final prediction score: [0.98500000]\n",
      "Final prediction f1 score: [0.98495976]\n"
     ]
    }
   ],
   "source": [
    "model = clf = LogisticRegressionCV(cv=5, random_state=0, multi_class='multinomial')\n",
    "model.fit(X_train, y_train)\n",
    "\n",
    "# Performing prediction on test dataset\n",
    "preds = model.predict(X_test)\n",
    "print('Final prediction score: [%.8f]' % accuracy_score(y_test, preds))\n",
    "print('Final prediction f1 score: [%.8f]' % f1_score(y_test, preds, average='weighted'))"
   ]
  },
  {
   "cell_type": "code",
   "execution_count": 159,
   "metadata": {
    "colab": {},
    "colab_type": "code",
    "id": "PDlfRmMg9L1P"
   },
   "outputs": [],
   "source": [
    "import xgboost as xgb"
   ]
  },
  {
   "cell_type": "code",
   "execution_count": 160,
   "metadata": {},
   "outputs": [
    {
     "data": {
      "text/plain": [
       "XGBClassifier(base_score=0.5, booster='gbtree', colsample_bylevel=1,\n",
       "       colsample_bynode=1, colsample_bytree=1, gamma=0, learning_rate=0.1,\n",
       "       max_delta_step=0, max_depth=3, min_child_weight=1, missing=None,\n",
       "       n_estimators=100, n_jobs=1, nthread=None,\n",
       "       objective='binary:logistic', random_state=42, reg_alpha=0,\n",
       "       reg_lambda=1, scale_pos_weight=1, seed=None, silent=None,\n",
       "       subsample=1, verbosity=1)"
      ]
     },
     "execution_count": 160,
     "metadata": {},
     "output_type": "execute_result"
    }
   ],
   "source": [
    "xgb_model = xgb.XGBClassifier(objective=\"binary:logistic\", random_state=42)\n",
    "xgb_model.fit(X_train, y_train)"
   ]
  },
  {
   "cell_type": "code",
   "execution_count": 161,
   "metadata": {},
   "outputs": [
    {
     "name": "stdout",
     "output_type": "stream",
     "text": [
      "Final prediction score: [1.00000000]\n",
      "Final prediction f1 score: [1.00000000]\n"
     ]
    }
   ],
   "source": [
    "preds = xgb_model.predict(X_test)\n",
    "print('Final prediction score: [%.8f]' % accuracy_score(y_test, preds))\n",
    "print('Final prediction f1 score: [%.8f]' % f1_score(y_test, preds, average='weighted'))"
   ]
  },
  {
   "cell_type": "code",
   "execution_count": null,
   "metadata": {},
   "outputs": [],
   "source": []
  },
  {
   "cell_type": "code",
   "execution_count": null,
   "metadata": {},
   "outputs": [],
   "source": []
  }
 ],
 "metadata": {
  "accelerator": "GPU",
  "colab": {
   "collapsed_sections": [
    "RJYXI8HUl1Lu"
   ],
   "name": "Instaloader",
   "provenance": [],
   "version": "0.3.2"
  },
  "kernelspec": {
   "display_name": "Python 3",
   "language": "python",
   "name": "python3"
  },
  "language_info": {
   "codemirror_mode": {
    "name": "ipython",
    "version": 3
   },
   "file_extension": ".py",
   "mimetype": "text/x-python",
   "name": "python",
   "nbconvert_exporter": "python",
   "pygments_lexer": "ipython3",
   "version": "3.7.3"
  }
 },
 "nbformat": 4,
 "nbformat_minor": 1
}
