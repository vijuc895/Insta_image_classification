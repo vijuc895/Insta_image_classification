{
 "cells": [
  {
   "cell_type": "code",
   "execution_count": 1,
   "metadata": {
    "colab": {},
    "colab_type": "code",
    "id": "ZPy9IpggAN2l"
   },
   "outputs": [],
   "source": [
    "# Load the required packages\n",
    "import numpy as np\n",
    "import pandas as pd\n",
    "from tqdm import tqdm\n",
    "import google"
   ]
  },
  {
   "cell_type": "code",
   "execution_count": 2,
   "metadata": {
    "colab": {},
    "colab_type": "code",
    "id": "8TFAu-gIAX1e"
   },
   "outputs": [
    {
     "name": "stdout",
     "output_type": "stream",
     "text": [
      "Requirement already satisfied: instaloader in /home/vijender/.local/lib/python3.7/site-packages (4.2.8)\n",
      "Requirement already satisfied: requests>=2.4 in /home/vijender/anaconda3/lib/python3.7/site-packages (from instaloader) (2.21.0)\n",
      "Requirement already satisfied: certifi>=2017.4.17 in /home/vijender/anaconda3/lib/python3.7/site-packages (from requests>=2.4->instaloader) (2019.3.9)\n",
      "Requirement already satisfied: urllib3<1.25,>=1.21.1 in /home/vijender/anaconda3/lib/python3.7/site-packages (from requests>=2.4->instaloader) (1.24.1)\n",
      "Requirement already satisfied: idna<2.9,>=2.5 in /home/vijender/anaconda3/lib/python3.7/site-packages (from requests>=2.4->instaloader) (2.8)\n",
      "Requirement already satisfied: chardet<3.1.0,>=3.0.2 in /home/vijender/anaconda3/lib/python3.7/site-packages (from requests>=2.4->instaloader) (3.0.4)\n"
     ]
    }
   ],
   "source": [
    "# Install Instaloader through pip install\n",
    "! pip install instaloader"
   ]
  },
  {
   "cell_type": "code",
   "execution_count": 2,
   "metadata": {
    "colab": {},
    "colab_type": "code",
    "id": "90oMRgGrAYdE"
   },
   "outputs": [],
   "source": [
    "import instaloader"
   ]
  },
  {
   "cell_type": "code",
   "execution_count": 3,
   "metadata": {
    "colab": {},
    "colab_type": "code",
    "id": "jr-_xZQgAbgp"
   },
   "outputs": [],
   "source": [
    "# Create an empty dataframe of the various atrributes you want to extract\n",
    "data = pd.DataFrame(columns=['username','image_url', 'following', 'followers', 'date', 'time', 'likes', 'caption'])\n",
    "info = []"
   ]
  },
  {
   "cell_type": "code",
   "execution_count": 4,
   "metadata": {
    "colab": {},
    "colab_type": "code",
    "id": "4Z7SxOy3AeUE"
   },
   "outputs": [],
   "source": [
    "# Custom function to extract various attributes given a hashtag\n",
    "def scraper(hashtag):\n",
    "    L = instaloader.Instaloader()\n",
    "    likes = []\n",
    "    comments = []\n",
    "    caption = []\n",
    "    caption_hashtags=[]\n",
    "    datetime = []\n",
    "    image_url = [] \n",
    "    username = []\n",
    "    following = []\n",
    "    followers = []\n",
    "    type_media=[]\n",
    "    comments_text=[]\n",
    "    location=[]\n",
    "    count = 0\n",
    "\n",
    "  \n",
    "    for post in L.get_hashtag_posts(hashtag):\n",
    "        date=post.date.strftime(\"%d-%m-%Y\")\n",
    "        if post.is_video == False and date<'05-08-2019' and post.comments>1:\n",
    "            profile = instaloader.Profile.from_username(L.context, post.owner_username)\n",
    "            username.append(post.owner_username)\n",
    "            following.append(profile.followees)\n",
    "            followers.append(profile.followers)\n",
    "            datetime.append(post.date)\n",
    "            image_url.append(post.url)\n",
    "            type_media.append(post.typename)\n",
    "            k = str(post.caption)\n",
    "            k = k.replace('\\n', \" \")\n",
    "            caption.append(k)\n",
    "            caption_hashtags.append(post.caption_hashtags)\n",
    "            likes.append(post.likes)\n",
    "            comments.append(post.comments)\n",
    "            text=[]\n",
    "            for i in post.get_comments():\n",
    "                text.append(i[2])\n",
    "            comments_text.append(text)\n",
    "            count+=1\n",
    "            if count == 1000:\n",
    "                break\n",
    "    global data     \n",
    "    data=pd.DataFrame(\n",
    "    {'username':username,\n",
    "     'image_url':image_url,\n",
    "     'following':following,\n",
    "     'followers':followers,\n",
    "     'datetime':datetime, \n",
    "     'type_media':type_media, \n",
    "     'likes':likes,\n",
    "     'comments':comments,\n",
    "     'caption':caption,\n",
    "     'caption_hashtags':caption_hashtags,\n",
    "     'comments_text':comments_text\n",
    "    })\n",
    "  \n",
    "    #user_data = pd.DataFrame(list(zip(username, image_url, following, followers, datetime,type_media, likes,comments, caption,caption_hashtags,location,comments_text)),\n",
    "     #             columns=[])\n",
    "\n",
    "    #global data\n",
    "    #data = data.append(user_data, ignore_index=True, sort=False)\n",
    "    print(data.shape)\n",
    "\n",
    "    info.append([hashtag, len(likes)])\n",
    "    print(info)"
   ]
  },
  {
   "cell_type": "code",
   "execution_count": null,
   "metadata": {
    "colab": {},
    "colab_type": "code",
    "id": "VouocYmcAiOd"
   },
   "outputs": [],
   "source": [
    "%%time\n",
    "scrape r('politicians')"
   ]
  },
  {
   "cell_type": "code",
   "execution_count": 109,
   "metadata": {},
   "outputs": [
    {
     "data": {
      "text/html": [
       "<div>\n",
       "<style scoped>\n",
       "    .dataframe tbody tr th:only-of-type {\n",
       "        vertical-align: middle;\n",
       "    }\n",
       "\n",
       "    .dataframe tbody tr th {\n",
       "        vertical-align: top;\n",
       "    }\n",
       "\n",
       "    .dataframe thead th {\n",
       "        text-align: right;\n",
       "    }\n",
       "</style>\n",
       "<table border=\"1\" class=\"dataframe\">\n",
       "  <thead>\n",
       "    <tr style=\"text-align: right;\">\n",
       "      <th></th>\n",
       "      <th>username</th>\n",
       "      <th>image_url</th>\n",
       "      <th>following</th>\n",
       "      <th>followers</th>\n",
       "      <th>datetime</th>\n",
       "      <th>type_media</th>\n",
       "      <th>likes</th>\n",
       "      <th>comments</th>\n",
       "      <th>caption</th>\n",
       "      <th>caption_hashtags</th>\n",
       "      <th>comments_text</th>\n",
       "    </tr>\n",
       "  </thead>\n",
       "  <tbody>\n",
       "    <tr>\n",
       "      <th>0</th>\n",
       "      <td>mustang_sally_69</td>\n",
       "      <td>https://scontent-bom1-2.cdninstagram.com/vp/31...</td>\n",
       "      <td>295</td>\n",
       "      <td>308</td>\n",
       "      <td>2019-08-04 23:47:27</td>\n",
       "      <td>GraphImage</td>\n",
       "      <td>18</td>\n",
       "      <td>7</td>\n",
       "      <td>My dear mountain and vast landscape, my soul. ...</td>\n",
       "      <td>[]</td>\n",
       "      <td>[#rape #destruction #norwegian #nature #landsc...</td>\n",
       "    </tr>\n",
       "  </tbody>\n",
       "</table>\n",
       "</div>"
      ],
      "text/plain": [
       "           username                                          image_url  \\\n",
       "0  mustang_sally_69  https://scontent-bom1-2.cdninstagram.com/vp/31...   \n",
       "\n",
       "   following  followers            datetime  type_media  likes  comments  \\\n",
       "0        295        308 2019-08-04 23:47:27  GraphImage     18         7   \n",
       "\n",
       "                                             caption caption_hashtags  \\\n",
       "0  My dear mountain and vast landscape, my soul. ...               []   \n",
       "\n",
       "                                       comments_text  \n",
       "0  [#rape #destruction #norwegian #nature #landsc...  "
      ]
     },
     "execution_count": 109,
     "metadata": {},
     "output_type": "execute_result"
    }
   ],
   "source": [
    "data"
   ]
  },
  {
   "cell_type": "code",
   "execution_count": 0,
   "metadata": {
    "colab": {},
    "colab_type": "code",
    "id": "-GvQj3acAmRj"
   },
   "outputs": [],
   "source": [
    "data.to_excel('newdata1.xlsx', index=False)\n",
    "\n",
    "files.download('newdata1.xlsx')"
   ]
  }
 ],
 "metadata": {
  "colab": {
   "name": "Instaloadercopy.ipynb",
   "provenance": [],
   "version": "0.3.2"
  },
  "kernelspec": {
   "display_name": "Python 3",
   "language": "python",
   "name": "python3"
  },
  "language_info": {
   "codemirror_mode": {
    "name": "ipython",
    "version": 3
   },
   "file_extension": ".py",
   "mimetype": "text/x-python",
   "name": "python",
   "nbconvert_exporter": "python",
   "pygments_lexer": "ipython3",
   "version": "3.7.3"
  }
 },
 "nbformat": 4,
 "nbformat_minor": 1
}
